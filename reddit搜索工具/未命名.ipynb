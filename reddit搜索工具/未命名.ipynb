{
 "cells": [
  {
   "cell_type": "code",
   "execution_count": 3,
   "metadata": {},
   "outputs": [
    {
     "data": {
      "text/plain": [
       "['techsupport',\n",
       " 'economics',\n",
       " 'finance',\n",
       " 'longreads',\n",
       " 'usnews',\n",
       " 'politics',\n",
       " 'technews',\n",
       " 'worldnews',\n",
       " 'economy',\n",
       " 'jobs',\n",
       " 'Careerguidance',\n",
       " 'cscareerquestions',\n",
       " 'Interviews',\n",
       " 'CodingHelp',\n",
       " 'computerscience',\n",
       " 'learnprogramming',\n",
       " 'learnjavascript',\n",
       " 'geopolitics']"
      ]
     },
     "execution_count": 3,
     "metadata": {},
     "output_type": "execute_result"
    }
   ],
   "source": [
    "l1=\"techsupport economics finance  longreads  usnews politics  technews worldnews economy jobs Careerguidance  cscareerquestions Interviews CodingHelp computerscience learnprogramming learnjavascript geopolitics\"\n",
    "l1.split()"
   ]
  },
  {
   "cell_type": "code",
   "execution_count": null,
   "metadata": {},
   "outputs": [],
   "source": []
  }
 ],
 "metadata": {
  "kernelspec": {
   "display_name": "Python 3",
   "language": "python",
   "name": "python3"
  },
  "language_info": {
   "codemirror_mode": {
    "name": "ipython",
    "version": 3
   },
   "file_extension": ".py",
   "mimetype": "text/x-python",
   "name": "python",
   "nbconvert_exporter": "python",
   "pygments_lexer": "ipython3",
   "version": "3.8.3"
  }
 },
 "nbformat": 4,
 "nbformat_minor": 4
}
