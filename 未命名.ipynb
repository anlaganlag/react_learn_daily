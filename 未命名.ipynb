{
 "cells": [
  {
   "cell_type": "code",
   "execution_count": 2,
   "metadata": {},
   "outputs": [
    {
     "data": {
      "text/plain": [
       "dict_keys(['CAD', 'HKD', 'ISK', 'PHP', 'DKK', 'HUF', 'CZK', 'AUD', 'RON', 'SEK', 'IDR', 'INR', 'BRL', 'RUB', 'HRK', 'JPY', 'THB', 'CHF', 'SGD', 'PLN', 'BGN', 'TRY', 'CNY', 'NOK', 'NZD', 'ZAR', 'USD', 'MXN', 'ILS', 'GBP', 'KRW', 'MYR'])"
      ]
     },
     "execution_count": 2,
     "metadata": {},
     "output_type": "execute_result"
    }
   ],
   "source": [
    "d={\"CAD\":1.5532,\"HKD\":8.8744,\"ISK\":160.2,\"PHP\":56.5,\"DKK\":7.448,\"HUF\":352.56,\"CZK\":26.598,\"AUD\":1.6359,\"RON\":4.8418,\"SEK\":10.301,\"IDR\":16925.87,\"INR\":85.6355,\"BRL\":6.148,\"RUB\":81.875,\"HRK\":7.534,\"JPY\":122.63,\"THB\":36.376,\"CHF\":1.0736,\"SGD\":1.5909,\"PLN\":4.4592,\"BGN\":1.9558,\"TRY\":7.8508,\"CNY\":7.9992,\"NOK\":10.606,\"NZD\":1.7435,\"ZAR\":19.1409,\"USD\":1.1448,\"MXN\":25.8217,\"ILS\":3.9279,\"GBP\":0.90575,\"KRW\":1377.07,\"MYR\":4.8797}\n",
    "d.keys()"
   ]
  },
  {
   "cell_type": "code",
   "execution_count": 3,
   "metadata": {},
   "outputs": [],
   "source": [
    "l=['CAD', 'HKD', 'ISK', 'PHP', 'DKK', 'HUF', 'CZK', 'AUD', 'RON', 'SEK', 'IDR', 'INR', 'BRL', 'RUB', 'HRK', 'JPY', 'THB', 'CHF', 'SGD', 'PLN', 'BGN', 'TRY', 'CNY', 'NOK', 'NZD', 'ZAR', 'USD', 'MXN', 'ILS', 'GBP', 'KRW', 'MYR']"
   ]
  },
  {
   "cell_type": "code",
   "execution_count": 4,
   "metadata": {},
   "outputs": [
    {
     "data": {
      "text/plain": [
       "['CAD',\n",
       " 'HKD',\n",
       " 'ISK',\n",
       " 'PHP',\n",
       " 'DKK',\n",
       " 'HUF',\n",
       " 'CZK',\n",
       " 'AUD',\n",
       " 'RON',\n",
       " 'SEK',\n",
       " 'IDR',\n",
       " 'INR',\n",
       " 'BRL',\n",
       " 'RUB',\n",
       " 'HRK',\n",
       " 'JPY',\n",
       " 'THB',\n",
       " 'CHF',\n",
       " 'SGD',\n",
       " 'PLN',\n",
       " 'BGN',\n",
       " 'TRY',\n",
       " 'CNY',\n",
       " 'NOK',\n",
       " 'NZD',\n",
       " 'ZAR',\n",
       " 'USD',\n",
       " 'MXN',\n",
       " 'ILS',\n",
       " 'GBP',\n",
       " 'KRW',\n",
       " 'MYR']"
      ]
     },
     "execution_count": 4,
     "metadata": {},
     "output_type": "execute_result"
    }
   ],
   "source": [
    "l"
   ]
  },
  {
   "cell_type": "code",
   "execution_count": 5,
   "metadata": {},
   "outputs": [],
   "source": [
    "  trans = {\n",
    "  \"CNY\": \"人民币\",\n",
    "  \"CAD\": \"加元\",\n",
    "        \"HKD\": \"港元\",\n",
    "        \"ISK\": \"冰岛克朗\",\n",
    "        \"PHP\": \"菲律宾比索\",\n",
    "        \"DKK\": \"丹麦克朗\",\n",
    "        \"HUF\": \"匈牙利福林\",\n",
    "      \n",
    "      \n",
    "      \n",
    "      \n",
    "      \n",
    "      \n",
    "      \n",
    "  \"BAM\": \"波斯尼亚和黑塞哥维那可兑换马克\",\n",
    "  \"BGN\": \"保加利亞列弗\",\n",
    "  \"CHF\": \"瑞士法郎\",\n",
    "  \"CZK\": \"捷克克朗\",\n",
    "\n",
    "  \"EUR\": \"欧元\",\n",
    "  \"GBP\": \"英镑\",\n",
    "  \"HRK\": \"克羅埃西亞庫納\",\n",
    "\n",
    "\n",
    "  \"MDL\": \"摩爾多瓦列伊\",\n",
    "  \"MKD\": \"馬其頓代納爾\",\n",
    "  \"NOK\": \"挪威克朗\",\n",
    "  \"PLN\": \"波兰兹罗提\",\n",
    "  \"RON\": \"罗马尼亚列伊\",\n",
    "  \"RSD\": \"塞爾維亞第納爾\",\n",
    "  \"RUB\": \"俄罗斯卢布\",\n",
    "  \"SEK\": \"瑞典克朗\",\n",
    "  \"TRY\": \"土耳其里拉\",\n",
    "  \"UAH\": \"乌克兰格里夫纳\",\n",
    "  \"AWG\": \"阿魯巴弗羅林\",\n",
    "  \"BBD\": \"巴巴多斯元\",\n",
    "  \"BMD\": \"百慕達元\",\n",
    "  \"BSD\": \"巴哈馬元\",\n",
    "\n",
    "  \"DOP\": \"多明尼加比索\",\n",
    "  \"GTQ\": \"瓜地馬拉格查爾\",\n",
    "  \"JMD\": \"牙买加元\",\n",
    "  \"MXN\": \"墨西哥比索\",\n",
    "  \"PAB\": \"巴拿马波亚\",\n",
    "  \"USD\": \"美元\",\n",
    "  \"XCD\": \"东加勒比海元\",\n",
    "  \"AUD\": \"澳元\",\n",
    "  \"FJD\": \"斐濟元\",\n",
    "  \"NZD\": \"新西兰元\",\n",
    "  \"XPF\": \"太平洋法郎\",\n",
    "  \"BDT\": \"孟加拉塔卡\",\n",
    "\n",
    "\n",
    "  \"IDR\": \"印尼盾\",\n",
    "  \"INR\": \"印度卢比\",\n",
    "  \"JPY\": \"日元\",\n",
    "  \"KHR\": \"柬埔寨瑞爾\",\n",
    "  \"KRW\": \"韩元\",\n",
    "  \"LAK\": \"寮國基普\",\n",
    "  \"LKR\": \"斯里兰卡卢比\",\n",
    "  \"MVR\": \"馬爾地夫拉菲亞\",\n",
    "  \"MYR\": \"马来西亚林吉特\",\n",
    "  \"NPR\": \"尼泊尔卢比\",\n",
    "\n",
    "  \"PKR\": \"巴基斯坦卢比\",\n",
    "  \"SGD\": \"新加坡元\",\n",
    "  \"THB\": \"泰铢\",\n",
    "  \"TWD\": \"新臺幣\",\n",
    "  \"VND\": \"越南盾\",\n",
    "  \"ARS\": \"阿根廷比索\",\n",
    "  \"BOB\": \"玻利維亞諾\",\n",
    "  \"BRL\": \"巴西雷亚尔\",\n",
    "  \"CLP\": \"智利比索\",\n",
    "  \"COP\": \"哥伦比亚比索\",\n",
    "  \"PEN\": \"秘鲁索尔\",\n",
    "  \"PYG\": \"巴拉圭瓜拉尼\",\n",
    "  \"UYU\": \"烏拉圭比索\",\n",
    "  \"VES\": \"委内瑞拉玻利瓦尔\",\n",
    "  \"EGP\": \"埃及鎊\",\n",
    "  \"GHS\": \"迦納塞地\",\n",
    "  \"GMD\": \"甘比亞達拉西\",\n",
    "  \"KES\": \"肯尼亚先令\",\n",
    "  \"MAD\": \"摩洛哥迪拉姆\",\n",
    "  \"MGA\": \"阿里亞里\",\n",
    "  \"MUR\": \"模里西斯盧比\",\n",
    "  \"NAD\": \"纳米比亚元\",\n",
    "  \"NGN\": \"奈及利亞奈拉\",\n",
    "  \"SCR\": \"塞席爾盧比\",\n",
    "  \"TND\": \"突尼斯第納爾\",\n",
    "  \"UGX\": \"烏干達先令\",\n",
    "  \"XAF\": \"中非法郎\",\n",
    "  \"XOF\": \"西非法郎\",\n",
    "  \"ZAR\": \"南非南特\",\n",
    "  \"AED\": \"阿联酋迪拉姆\",\n",
    "  \"BHD\": \"巴林第纳尔\",\n",
    "  \"ILS\": \"以色列谢克尔\",\n",
    "  \"IRR\": \"伊朗里亞爾\",\n",
    "  \"JOD\": \"约旦第纳尔\",\n",
    "  \"KWD\": \"科威特第纳尔\",\n",
    "  \"LBP\": \"黎巴嫩镑\",\n",
    "  \"OMR\": \"阿曼里亚尔\",\n",
    "  \"QAR\": \"卡塔尔里亚尔\",\n",
    "  \"SAR\": \"沙特里亚尔\",\n",
    "  \"SYP\": \"敘利亞鎊\",\n",
    "  }\n"
   ]
  },
  {
   "cell_type": "code",
   "execution_count": null,
   "metadata": {},
   "outputs": [],
   "source": [
    "for k,"
   ]
  },
  {
   "cell_type": "code",
   "execution_count": 11,
   "metadata": {},
   "outputs": [],
   "source": [
    "ans = {k:v for k,v in trans.items() if k in l}"
   ]
  },
  {
   "cell_type": "code",
   "execution_count": 14,
   "metadata": {},
   "outputs": [
    {
     "data": {
      "text/plain": [
       "{'CNY': '人民币',\n",
       " 'CAD': '加元',\n",
       " 'HKD': '港元',\n",
       " 'ISK': '冰岛克朗',\n",
       " 'PHP': '菲律宾比索',\n",
       " 'DKK': '丹麦克朗',\n",
       " 'HUF': '匈牙利福林',\n",
       " 'BGN': '保加利亞列弗',\n",
       " 'CHF': '瑞士法郎',\n",
       " 'CZK': '捷克克朗',\n",
       " 'GBP': '英镑',\n",
       " 'HRK': '克羅埃西亞庫納',\n",
       " 'NOK': '挪威克朗',\n",
       " 'PLN': '波兰兹罗提',\n",
       " 'RON': '罗马尼亚列伊',\n",
       " 'RUB': '俄罗斯卢布',\n",
       " 'SEK': '瑞典克朗',\n",
       " 'TRY': '土耳其里拉',\n",
       " 'MXN': '墨西哥比索',\n",
       " 'USD': '美元',\n",
       " 'AUD': '澳元',\n",
       " 'NZD': '新西兰元',\n",
       " 'IDR': '印尼盾',\n",
       " 'INR': '印度卢比',\n",
       " 'JPY': '日元',\n",
       " 'KRW': '韩元',\n",
       " 'MYR': '马来西亚林吉特',\n",
       " 'SGD': '新加坡元',\n",
       " 'THB': '泰铢',\n",
       " 'BRL': '巴西雷亚尔',\n",
       " 'ZAR': '南非南特',\n",
       " 'ILS': '以色列谢克尔'}"
      ]
     },
     "execution_count": 14,
     "metadata": {},
     "output_type": "execute_result"
    }
   ],
   "source": [
    "ans"
   ]
  },
  {
   "cell_type": "code",
   "execution_count": 13,
   "metadata": {},
   "outputs": [
    {
     "data": {
      "text/plain": [
       "32"
      ]
     },
     "execution_count": 13,
     "metadata": {},
     "output_type": "execute_result"
    }
   ],
   "source": [
    "len(ans.keys())"
   ]
  },
  {
   "cell_type": "code",
   "execution_count": 6,
   "metadata": {},
   "outputs": [
    {
     "data": {
      "text/plain": [
       "{'CNY': '人民币',\n",
       " 'CAD': '加元',\n",
       " 'HKD': '港元',\n",
       " 'ISK': '冰岛克朗',\n",
       " 'PHP': '菲律宾比索',\n",
       " 'DKK': '丹麦克朗',\n",
       " 'HUF': '匈牙利福林',\n",
       " 'BAM': '波斯尼亚和黑塞哥维那可兑换马克',\n",
       " 'BGN': '保加利亞列弗',\n",
       " 'CHF': '瑞士法郎',\n",
       " 'CZK': '捷克克朗',\n",
       " 'EUR': '欧元',\n",
       " 'GBP': '英镑',\n",
       " 'HRK': '克羅埃西亞庫納',\n",
       " 'MDL': '摩爾多瓦列伊',\n",
       " 'MKD': '馬其頓代納爾',\n",
       " 'NOK': '挪威克朗',\n",
       " 'PLN': '波兰兹罗提',\n",
       " 'RON': '罗马尼亚列伊',\n",
       " 'RSD': '塞爾維亞第納爾',\n",
       " 'RUB': '俄罗斯卢布',\n",
       " 'SEK': '瑞典克朗',\n",
       " 'TRY': '土耳其里拉',\n",
       " 'UAH': '乌克兰格里夫纳',\n",
       " 'AWG': '阿魯巴弗羅林',\n",
       " 'BBD': '巴巴多斯元',\n",
       " 'BMD': '百慕達元',\n",
       " 'BSD': '巴哈馬元',\n",
       " 'DOP': '多明尼加比索',\n",
       " 'GTQ': '瓜地馬拉格查爾',\n",
       " 'JMD': '牙买加元',\n",
       " 'MXN': '墨西哥比索',\n",
       " 'PAB': '巴拿马波亚',\n",
       " 'USD': '美元',\n",
       " 'XCD': '东加勒比海元',\n",
       " 'AUD': '澳元',\n",
       " 'FJD': '斐濟元',\n",
       " 'NZD': '新西兰元',\n",
       " 'XPF': '太平洋法郎',\n",
       " 'BDT': '孟加拉塔卡',\n",
       " 'IDR': '印尼盾',\n",
       " 'INR': '印度卢比',\n",
       " 'JPY': '日元',\n",
       " 'KHR': '柬埔寨瑞爾',\n",
       " 'KRW': '韩元',\n",
       " 'LAK': '寮國基普',\n",
       " 'LKR': '斯里兰卡卢比',\n",
       " 'MVR': '馬爾地夫拉菲亞',\n",
       " 'MYR': '马来西亚林吉特',\n",
       " 'NPR': '尼泊尔卢比',\n",
       " 'PKR': '巴基斯坦卢比',\n",
       " 'SGD': '新加坡元',\n",
       " 'THB': '泰铢',\n",
       " 'TWD': '新臺幣',\n",
       " 'VND': '越南盾',\n",
       " 'ARS': '阿根廷比索',\n",
       " 'BOB': '玻利維亞諾',\n",
       " 'BRL': '巴西雷亚尔',\n",
       " 'CLP': '智利比索',\n",
       " 'COP': '哥伦比亚比索',\n",
       " 'PEN': '秘鲁索尔',\n",
       " 'PYG': '巴拉圭瓜拉尼',\n",
       " 'UYU': '烏拉圭比索',\n",
       " 'VES': '委内瑞拉玻利瓦尔',\n",
       " 'EGP': '埃及鎊',\n",
       " 'GHS': '迦納塞地',\n",
       " 'GMD': '甘比亞達拉西',\n",
       " 'KES': '肯尼亚先令',\n",
       " 'MAD': '摩洛哥迪拉姆',\n",
       " 'MGA': '阿里亞里',\n",
       " 'MUR': '模里西斯盧比',\n",
       " 'NAD': '纳米比亚元',\n",
       " 'NGN': '奈及利亞奈拉',\n",
       " 'SCR': '塞席爾盧比',\n",
       " 'TND': '突尼斯第納爾',\n",
       " 'UGX': '烏干達先令',\n",
       " 'XAF': '中非法郎',\n",
       " 'XOF': '西非法郎',\n",
       " 'ZAR': '南非南特',\n",
       " 'AED': '阿联酋迪拉姆',\n",
       " 'BHD': '巴林第纳尔',\n",
       " 'ILS': '以色列谢克尔',\n",
       " 'IRR': '伊朗里亞爾',\n",
       " 'JOD': '约旦第纳尔',\n",
       " 'KWD': '科威特第纳尔',\n",
       " 'LBP': '黎巴嫩镑',\n",
       " 'OMR': '阿曼里亚尔',\n",
       " 'QAR': '卡塔尔里亚尔',\n",
       " 'SAR': '沙特里亚尔',\n",
       " 'SYP': '敘利亞鎊'}"
      ]
     },
     "execution_count": 6,
     "metadata": {},
     "output_type": "execute_result"
    }
   ],
   "source": [
    "trans\n"
   ]
  },
  {
   "cell_type": "code",
   "execution_count": null,
   "metadata": {},
   "outputs": [],
   "source": []
  }
 ],
 "metadata": {
  "kernelspec": {
   "display_name": "Python 3",
   "language": "python",
   "name": "python3"
  },
  "language_info": {
   "codemirror_mode": {
    "name": "ipython",
    "version": 3
   },
   "file_extension": ".py",
   "mimetype": "text/x-python",
   "name": "python",
   "nbconvert_exporter": "python",
   "pygments_lexer": "ipython3",
   "version": "3.8.3"
  }
 },
 "nbformat": 4,
 "nbformat_minor": 4
}
